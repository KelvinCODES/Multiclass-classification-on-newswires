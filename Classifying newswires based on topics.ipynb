{
 "cells": [
  {
   "cell_type": "markdown",
   "metadata": {},
   "source": [
    "# Classifying newswires based on topics"
   ]
  },
  {
   "cell_type": "markdown",
   "metadata": {},
   "source": [
    "Training neural network to perform single label multiclass classification on reuters newswire dataset"
   ]
  },
  {
   "cell_type": "code",
   "execution_count": 89,
   "metadata": {},
   "outputs": [],
   "source": [
    "from keras.datasets import reuters\n",
    "from keras import models\n",
    "from keras import layers\n",
    "from keras.utils.np_utils import to_categorical\n",
    "import matplotlib.pyplot as plt\n",
    "import numpy as np"
   ]
  },
  {
   "cell_type": "markdown",
   "metadata": {},
   "source": [
    "## The Reuters dataset"
   ]
  },
  {
   "cell_type": "markdown",
   "metadata": {},
   "source": [
    "Downloading reuters dataset with on only the top 10000 most frequent words"
   ]
  },
  {
   "cell_type": "code",
   "execution_count": 71,
   "metadata": {},
   "outputs": [],
   "source": [
    "(train_dataset, train_label), (test_dataset, test_label) = reuters.load_data(num_words = 10000)"
   ]
  },
  {
   "cell_type": "markdown",
   "metadata": {},
   "source": [
    "The dataset is divided into 8982 samples for training and 2246 for testing"
   ]
  },
  {
   "cell_type": "code",
   "execution_count": 72,
   "metadata": {},
   "outputs": [
    {
     "name": "stdout",
     "output_type": "stream",
     "text": [
      "(8982,)\n",
      "(2246,)\n"
     ]
    }
   ],
   "source": [
    "print(train_dataset.shape)\n",
    "print(test_dataset.shape)"
   ]
  },
  {
   "cell_type": "code",
   "execution_count": 101,
   "metadata": {},
   "outputs": [
    {
     "name": "stdout",
     "output_type": "stream",
     "text": [
      "[1, 2, 2, 8, 43, 10, 447, 5, 25, 207, 270, 5, 3095, 111, 16, 369, 186, 90, 67, 7, 89, 5, 19, 102, 6, 19, 124, 15, 90, 67, 84, 22, 482, 26, 7, 48, 4, 49, 8, 864, 39, 209, 154, 6, 151, 6, 83, 11, 15, 22, 155, 11, 15, 7, 48, 9, 4579, 1005, 504, 6, 258, 6, 272, 11, 15, 22, 134, 44, 11, 15, 16, 8, 197, 1245, 90, 67, 52, 29, 209, 30, 32, 132, 6, 109, 15, 17, 12] \n",
      "\n",
      "3\n"
     ]
    }
   ],
   "source": [
    "print(train_dataset[0], '\\n')\n",
    "print(train_label[0])"
   ]
  },
  {
   "cell_type": "markdown",
   "metadata": {},
   "source": [
    "The provided train_data and test_data is in the format of word indices from a specific word in a dictionary.\n",
    "\n",
    "The provided train_label and test_label are integers which represent which class the corresponding data belongs to."
   ]
  },
  {
   "cell_type": "markdown",
   "metadata": {},
   "source": [
    "## Decode sentences"
   ]
  },
  {
   "cell_type": "markdown",
   "metadata": {},
   "source": [
    "Lets define a function to decode these vectors of indices back into english sentences"
   ]
  },
  {
   "cell_type": "code",
   "execution_count": 74,
   "metadata": {},
   "outputs": [],
   "source": [
    "# i - 3 because the first three indices are reserved for padding, start of sequence, and unknown\n",
    "def decode(index):\n",
    "    word_dict = reuters.get_word_index()\n",
    "    reversed_word_dict = dict([(value, key) for (key, value) in word_dict.items()])\n",
    "    result = ' '.join([reversed_word_dict.get(i - 3, '?') for i in train_dataset[index]])\n",
    "    return result"
   ]
  },
  {
   "cell_type": "code",
   "execution_count": 75,
   "metadata": {},
   "outputs": [
    {
     "data": {
      "text/plain": [
       "'? ? ? said as a result of its december acquisition of space co it expects earnings per share in 1987 of 1 15 to 1 30 dlrs per share up from 70 cts in 1986 the company said pretax net should rise to nine to 10 mln dlrs from six mln dlrs in 1986 and rental operation revenues to 19 to 22 mln dlrs from 12 5 mln dlrs it said cash flow per share this year should be 2 50 to three dlrs reuter 3'"
      ]
     },
     "execution_count": 75,
     "metadata": {},
     "output_type": "execute_result"
    }
   ],
   "source": [
    "decode(0)"
   ]
  },
  {
   "cell_type": "code",
   "execution_count": 76,
   "metadata": {},
   "outputs": [
    {
     "data": {
      "text/plain": [
       "'? generale de banque sa lt ? br and lt heller overseas corp of chicago have each taken 50 pct stakes in ? company sa ? factors generale de banque said in a statement it gave no financial details of the transaction sa ? ? turnover in 1986 was 17 5 billion belgian francs reuter 3'"
      ]
     },
     "execution_count": 76,
     "metadata": {},
     "output_type": "execute_result"
    }
   ],
   "source": [
    "decode(1)"
   ]
  },
  {
   "cell_type": "markdown",
   "metadata": {},
   "source": [
    "## Preparing the dataset"
   ]
  },
  {
   "cell_type": "markdown",
   "metadata": {},
   "source": [
    "Inorder to feed this dataset into a neural network, we have to preprocess the data into an appropriate and consistent format "
   ]
  },
  {
   "cell_type": "markdown",
   "metadata": {},
   "source": [
    "### Encoding the train and test data into 10000 dimensional vectors"
   ]
  },
  {
   "cell_type": "code",
   "execution_count": 77,
   "metadata": {
    "collapsed": true
   },
   "outputs": [],
   "source": [
    "def one_hot_encode(data, dimensions = 10000):\n",
    "    results = np.zeros((len(data), dimensions))\n",
    "    for i, seq in enumerate(data):\n",
    "        results[i,seq] = 1\n",
    "    return results"
   ]
  },
  {
   "cell_type": "code",
   "execution_count": 78,
   "metadata": {},
   "outputs": [],
   "source": [
    "x_train = one_hot_encode(train_dataset)\n",
    "x_test = one_hot_encode(test_dataset)"
   ]
  },
  {
   "cell_type": "markdown",
   "metadata": {},
   "source": [
    "## Encoding labels"
   ]
  },
  {
   "cell_type": "markdown",
   "metadata": {},
   "source": [
    "We will use the keras utility function"
   ]
  },
  {
   "cell_type": "code",
   "execution_count": 83,
   "metadata": {},
   "outputs": [],
   "source": [
    "one_hot_train_labels = to_categorical(train_label)\n",
    "one_hot_test_labels = to_categorical(test_label)"
   ]
  },
  {
   "cell_type": "code",
   "execution_count": 84,
   "metadata": {},
   "outputs": [
    {
     "data": {
      "text/plain": [
       "(8982, 46)"
      ]
     },
     "execution_count": 84,
     "metadata": {},
     "output_type": "execute_result"
    }
   ],
   "source": [
    "one_hot_train_labels.shape"
   ]
  },
  {
   "cell_type": "markdown",
   "metadata": {},
   "source": [
    "This is good because there are 8982 samples and 46 different classes, now we need to create a validation set inorder to tweak hyperparameter values"
   ]
  },
  {
   "cell_type": "markdown",
   "metadata": {},
   "source": [
    "## Validation set"
   ]
  },
  {
   "cell_type": "markdown",
   "metadata": {},
   "source": [
    "We will create a split our training samples into training and validations sets"
   ]
  },
  {
   "cell_type": "code",
   "execution_count": 96,
   "metadata": {
    "collapsed": true
   },
   "outputs": [],
   "source": [
    "x_val = x_train[:1000]\n",
    "partial_x_train = x_train[1000:]\n",
    "\n",
    "y_val = one_hot_train_labels[:1000]\n",
    "partial_y_train = one_hot_train_labels[1000:]"
   ]
  },
  {
   "cell_type": "markdown",
   "metadata": {},
   "source": [
    "## Model definition"
   ]
  },
  {
   "cell_type": "markdown",
   "metadata": {},
   "source": [
    "If you checked out my binary classification model on the imdb dataset, I chose to use only intermediate layers of 16. However, for this multiclass problem, that might be too shallow to classify 46 individual classes. Thus we will use 64 neurons in the intermediate layer and analyze for further tweaks."
   ]
  },
  {
   "cell_type": "markdown",
   "metadata": {},
   "source": [
    "We will define our model as follows:\n",
    "    - two intermediate layers of 64 neurons each with the activation function of relu\n",
    "    - a single output layer of 46 neurons (one for each class) with the activation function of softmax to output a probability distribution over the 46 different output classes"
   ]
  },
  {
   "cell_type": "code",
   "execution_count": 118,
   "metadata": {},
   "outputs": [],
   "source": [
    "model = models.Sequential()\n",
    "model.add(layers.Dense(64, activation='relu', input_shape = (10000,)))\n",
    "model.add(layers.Dense(64, activation='relu'))\n",
    "model.add(layers.Dense(46, activation='softmax'))"
   ]
  },
  {
   "cell_type": "markdown",
   "metadata": {},
   "source": [
    "### Hyperparameters"
   ]
  },
  {
   "cell_type": "markdown",
   "metadata": {},
   "source": [
    "We will test out rmsprop optimizer with the default learning rate\n",
    "\n",
    "Also, the loss function will be categorical_crossentropy to measure the distance between two probability distributions while keeping track of the accuracy"
   ]
  },
  {
   "cell_type": "code",
   "execution_count": 119,
   "metadata": {},
   "outputs": [],
   "source": [
    "model.compile(optimizer = 'rmsprop', loss = 'categorical_crossentropy', metrics = ['acc'])"
   ]
  },
  {
   "cell_type": "markdown",
   "metadata": {},
   "source": [
    "## Training the Model"
   ]
  },
  {
   "cell_type": "markdown",
   "metadata": {},
   "source": [
    "Running the model on 20 epochs, with batch sizes of 128"
   ]
  },
  {
   "cell_type": "code",
   "execution_count": 120,
   "metadata": {},
   "outputs": [
    {
     "name": "stdout",
     "output_type": "stream",
     "text": [
      "Train on 7982 samples, validate on 1000 samples\n",
      "Epoch 1/20\n",
      "7982/7982 [==============================] - 2s 228us/step - loss: 2.7927 - acc: 0.5080 - val_loss: 1.8428 - val_acc: 0.6360\n",
      "Epoch 2/20\n",
      "7982/7982 [==============================] - 1s 186us/step - loss: 1.4908 - acc: 0.7097 - val_loss: 1.3312 - val_acc: 0.7270\n",
      "Epoch 3/20\n",
      "7982/7982 [==============================] - 2s 200us/step - loss: 1.0725 - acc: 0.7707 - val_loss: 1.1375 - val_acc: 0.7600\n",
      "Epoch 4/20\n",
      "7982/7982 [==============================] - 2s 204us/step - loss: 0.8359 - acc: 0.8270 - val_loss: 1.0372 - val_acc: 0.7940\n",
      "Epoch 5/20\n",
      "7982/7982 [==============================] - 1s 186us/step - loss: 0.6664 - acc: 0.8626 - val_loss: 0.9730 - val_acc: 0.7980\n",
      "Epoch 6/20\n",
      "7982/7982 [==============================] - 2s 206us/step - loss: 0.5324 - acc: 0.8899 - val_loss: 0.9470 - val_acc: 0.8050\n",
      "Epoch 7/20\n",
      "7982/7982 [==============================] - 2s 203us/step - loss: 0.4298 - acc: 0.9113 - val_loss: 0.9169 - val_acc: 0.8160\n",
      "Epoch 8/20\n",
      "7982/7982 [==============================] - 2s 196us/step - loss: 0.3516 - acc: 0.9271 - val_loss: 0.8951 - val_acc: 0.8210\n",
      "Epoch 9/20\n",
      "7982/7982 [==============================] - 2s 192us/step - loss: 0.2933 - acc: 0.9372 - val_loss: 0.9241 - val_acc: 0.8110\n",
      "Epoch 10/20\n",
      "7982/7982 [==============================] - 2s 201us/step - loss: 0.2481 - acc: 0.9437 - val_loss: 0.9609 - val_acc: 0.8110\n",
      "Epoch 11/20\n",
      "7982/7982 [==============================] - 2s 194us/step - loss: 0.2143 - acc: 0.9460 - val_loss: 0.9291 - val_acc: 0.8100\n",
      "Epoch 12/20\n",
      "7982/7982 [==============================] - 2s 202us/step - loss: 0.1876 - acc: 0.9499 - val_loss: 0.9158 - val_acc: 0.8230\n",
      "Epoch 13/20\n",
      "7982/7982 [==============================] - 2s 208us/step - loss: 0.1665 - acc: 0.9536 - val_loss: 0.9620 - val_acc: 0.8210\n",
      "Epoch 14/20\n",
      "7982/7982 [==============================] - 2s 215us/step - loss: 0.1527 - acc: 0.9540 - val_loss: 0.9908 - val_acc: 0.8110\n",
      "Epoch 15/20\n",
      "7982/7982 [==============================] - 2s 203us/step - loss: 0.1448 - acc: 0.9541 - val_loss: 1.0175 - val_acc: 0.8050\n",
      "Epoch 16/20\n",
      "7982/7982 [==============================] - 2s 198us/step - loss: 0.1400 - acc: 0.9548 - val_loss: 0.9835 - val_acc: 0.8120\n",
      "Epoch 17/20\n",
      "7982/7982 [==============================] - 2s 223us/step - loss: 0.1271 - acc: 0.9548 - val_loss: 1.0474 - val_acc: 0.8090\n",
      "Epoch 18/20\n",
      "7982/7982 [==============================] - 2s 198us/step - loss: 0.1210 - acc: 0.9564 - val_loss: 1.0554 - val_acc: 0.8120\n",
      "Epoch 19/20\n",
      "7982/7982 [==============================] - 1s 187us/step - loss: 0.1150 - acc: 0.9585 - val_loss: 1.0637 - val_acc: 0.8100\n",
      "Epoch 20/20\n",
      "7982/7982 [==============================] - 2s 189us/step - loss: 0.1175 - acc: 0.9589 - val_loss: 1.0824 - val_acc: 0.8160\n"
     ]
    }
   ],
   "source": [
    "history = model.fit(partial_x_train,partial_y_train, epochs = 20, batch_size = 512, validation_data = (x_val, y_val))"
   ]
  },
  {
   "cell_type": "markdown",
   "metadata": {},
   "source": [
    "## Analysis"
   ]
  },
  {
   "cell_type": "code",
   "execution_count": 121,
   "metadata": {},
   "outputs": [
    {
     "data": {
      "image/png": "[encoded data removed]",
      "text/plain": [
       "<matplotlib.figure.Figure at 0x11e2d30b8>"
      ]
     },
     "metadata": {},
     "output_type": "display_data"
    }
   ],
   "source": [
    "train_loss = history.history['loss']\n",
    "val_loss = history.history['val_loss']\n",
    "\n",
    "epochs = range(1, len(train_loss) + 1)\n",
    "plt.plot(epochs, train_loss, 'bo', label = 'Training Loss')\n",
    "plt.plot(epochs, val_loss, 'b', label = 'Validation Loss')\n",
    "plt.xlabel('Epochs')\n",
    "plt.ylabel('Loss')\n",
    "plt.legend()\n",
    "plt.show()"
   ]
  },
  {
   "cell_type": "code",
   "execution_count": 124,
   "metadata": {},
   "outputs": [
    {
     "data": {
      "image/png": "[encoded data removed]",
      "text/plain": [
       "<matplotlib.figure.Figure at 0x11e2cd160>"
      ]
     },
     "metadata": {},
     "output_type": "display_data"
    }
   ],
   "source": [
    "train_acc = history.history['acc']\n",
    "val_acc = history.history['val_acc']\n",
    "\n",
    "plt.clf()\n",
    "plt.plot(epochs, train_acc, 'bo', label = 'Training Accuracy')\n",
    "plt.plot(epochs, val_acc, 'b', label = 'Validation Accuracy')\n",
    "plt.xlabel('Epochs')\n",
    "plt.ylabel('Accuracy')\n",
    "plt.legend()\n",
    "plt.show()"
   ]
  },
  {
   "cell_type": "markdown",
   "metadata": {},
   "source": [
    "### Summary"
   ]
  },
  {
   "cell_type": "markdown",
   "metadata": {},
   "source": [
    "It seems like the model had the best accuracy and loss around 8 epochs.\n",
    "\n",
    "After 8 epochs, the model started to overfit to the training data.\n",
    "\n",
    "Lets rebuild the model to use the entire training set and train it on 8 epochs"
   ]
  },
  {
   "cell_type": "markdown",
   "metadata": {},
   "source": [
    "## Rebuild the model and evaluate on the test dataset"
   ]
  },
  {
   "cell_type": "code",
   "execution_count": 130,
   "metadata": {},
   "outputs": [
    {
     "name": "stdout",
     "output_type": "stream",
     "text": [
      "Epoch 1/9\n",
      "8982/8982 [==============================] - 2s 224us/step - loss: 2.5356 - acc: 0.5537\n",
      "Epoch 2/9\n",
      "8982/8982 [==============================] - 1s 162us/step - loss: 1.3253 - acc: 0.7246\n",
      "Epoch 3/9\n",
      "8982/8982 [==============================] - 1s 160us/step - loss: 0.9800 - acc: 0.7897\n",
      "Epoch 4/9\n",
      "8982/8982 [==============================] - 1s 160us/step - loss: 0.7659 - acc: 0.8385\n",
      "Epoch 5/9\n",
      "8982/8982 [==============================] - 1s 167us/step - loss: 0.6086 - acc: 0.8707\n",
      "Epoch 6/9\n",
      "8982/8982 [==============================] - 2s 174us/step - loss: 0.4857 - acc: 0.9005\n",
      "Epoch 7/9\n",
      "8982/8982 [==============================] - 2s 181us/step - loss: 0.3916 - acc: 0.9187\n",
      "Epoch 8/9\n",
      "8982/8982 [==============================] - 2s 176us/step - loss: 0.3200 - acc: 0.9316\n",
      "Epoch 9/9\n",
      "8982/8982 [==============================] - 2s 177us/step - loss: 0.2691 - acc: 0.9413\n"
     ]
    },
    {
     "data": {
      "text/plain": [
       "<keras.callbacks.History at 0x121ab2ba8>"
      ]
     },
     "execution_count": 130,
     "metadata": {},
     "output_type": "execute_result"
    }
   ],
   "source": [
    "model_final = models.Sequential()\n",
    "model_final.add(layers.Dense(64, activation = 'relu', input_shape = (10000,)))\n",
    "model_final.add(layers.Dense(64, activation = 'relu'))\n",
    "model_final.add(layers.Dense(46, activation = 'softmax'))\n",
    "model_final.compile(optimizer = 'rmsprop', loss = 'categorical_crossentropy', metrics = ['acc'])\n",
    "model_final.fit(x_train, one_hot_train_labels, epochs = 9, batch_size = 512)"
   ]
  },
  {
   "cell_type": "code",
   "execution_count": 131,
   "metadata": {},
   "outputs": [
    {
     "name": "stdout",
     "output_type": "stream",
     "text": [
      "2246/2246 [==============================] - 1s 241us/step\n"
     ]
    }
   ],
   "source": [
    "results = model_final.evaluate(x_test, one_hot_test_labels)"
   ]
  },
  {
   "cell_type": "code",
   "execution_count": 132,
   "metadata": {},
   "outputs": [
    {
     "data": {
      "text/plain": [
       "[0.9561034473901546, 0.794746215494212]"
      ]
     },
     "execution_count": 132,
     "metadata": {},
     "output_type": "execute_result"
    }
   ],
   "source": [
    "results"
   ]
  },
  {
   "cell_type": "markdown",
   "metadata": {},
   "source": [
    "The accuracy of the model is at ~80%"
   ]
  },
  {
   "cell_type": "markdown",
   "metadata": {},
   "source": [
    "## Comparison with a less intermediate neuron neural network"
   ]
  },
  {
   "cell_type": "markdown",
   "metadata": {},
   "source": [
    "Lets create a 4 intermediate neuron neural network and compare the results"
   ]
  },
  {
   "cell_type": "code",
   "execution_count": 147,
   "metadata": {},
   "outputs": [
    {
     "name": "stdout",
     "output_type": "stream",
     "text": [
      "Epoch 1/9\n",
      "8982/8982 [==============================] - 3s 379us/step - loss: 3.5554 - acc: 0.3460\n",
      "Epoch 2/9\n",
      "8982/8982 [==============================] - 2s 245us/step - loss: 2.9371 - acc: 0.4531\n",
      "Epoch 3/9\n",
      "8982/8982 [==============================] - 2s 246us/step - loss: 2.5307 - acc: 0.4801\n",
      "Epoch 4/9\n",
      "8982/8982 [==============================] - 2s 248us/step - loss: 2.2938 - acc: 0.5122\n",
      "Epoch 5/9\n",
      "8982/8982 [==============================] - 2s 242us/step - loss: 2.1332 - acc: 0.5381\n",
      "Epoch 6/9\n",
      "8982/8982 [==============================] - 2s 242us/step - loss: 2.0098 - acc: 0.5376\n",
      "Epoch 7/9\n",
      "8982/8982 [==============================] - 2s 251us/step - loss: 1.9009 - acc: 0.5331\n",
      "Epoch 8/9\n",
      "8982/8982 [==============================] - 2s 246us/step - loss: 1.7999 - acc: 0.5245\n",
      "Epoch 9/9\n",
      "8982/8982 [==============================] - 2s 249us/step - loss: 1.7074 - acc: 0.5296\n"
     ]
    },
    {
     "data": {
      "text/plain": [
       "<keras.callbacks.History at 0x169e3d860>"
      ]
     },
     "execution_count": 147,
     "metadata": {},
     "output_type": "execute_result"
    }
   ],
   "source": [
    "model_32 = models.Sequential()\n",
    "model_32.add(layers.Dense(64, activation = 'relu', input_shape = (10000,)))\n",
    "model_32.add(layers.Dense(4, activation ='relu'))\n",
    "model_32.add(layers.Dense(46, activation = 'softmax'))\n",
    "model_32.compile(optimizer = 'rmsprop', loss = 'categorical_crossentropy', metrics = ['acc'])\n",
    "model_32.fit(x_train, one_hot_train_labels, epochs = 9, batch_size = 512)"
   ]
  },
  {
   "cell_type": "code",
   "execution_count": 148,
   "metadata": {},
   "outputs": [
    {
     "name": "stdout",
     "output_type": "stream",
     "text": [
      "2246/2246 [==============================] - 1s 408us/step\n"
     ]
    }
   ],
   "source": [
    "results = model_32.evaluate(x_test, one_hot_test_labels)"
   ]
  },
  {
   "cell_type": "code",
   "execution_count": 149,
   "metadata": {},
   "outputs": [
    {
     "data": {
      "text/plain": [
       "[2.021742804604562, 0.4897595726265402]"
      ]
     },
     "execution_count": 149,
     "metadata": {},
     "output_type": "execute_result"
    }
   ],
   "source": [
    "results"
   ]
  },
  {
   "cell_type": "markdown",
   "metadata": {},
   "source": [
    "The accuracy of the model is significantly lower at ~48%, this is due to the bottle necking of information in the itermediate layer, the data loss in this layer are gone forever, since each layer is only recieving information from the previous layer"
   ]
  },
  {
   "cell_type": "markdown",
   "metadata": {},
   "source": [
    "# Conclusion"
   ]
  },
  {
   "cell_type": "markdown",
   "metadata": {},
   "source": [
    "In conclusion, training at 9 epochs was good and achieved an accuracy of ~80%. The choice of the intermediate number of neurons was also good since too little neurons would bottle neck it while too many neurons would cause the model to overfit to the training data"
   ]
  }
 ],
 "metadata": {
  "kernelspec": {
   "display_name": "Python 3",
   "language": "python",
   "name": "python3"
  },
  "language_info": {
   "codemirror_mode": {
    "name": "ipython",
    "version": 3
   },
   "file_extension": ".py",
   "mimetype": "text/x-python",
   "name": "python",
   "nbconvert_exporter": "python",
   "pygments_lexer": "ipython3",
   "version": "3.6.3"
  }
 },
 "nbformat": 4,
 "nbformat_minor": 2
}
